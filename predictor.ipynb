{
 "cells": [
  {
   "cell_type": "code",
   "execution_count": null,
   "metadata": {},
   "outputs": [],
   "source": [
    "from fastcore.all import *\n",
    "from fastai.vision.all import *\n",
    "from fastai.metrics import error_rate\n",
    "from PIL import Image "
   ]
  },
  {
   "cell_type": "code",
   "execution_count": null,
   "metadata": {},
   "outputs": [],
   "source": [
    "path = Path(\"NF1 Extract August/data/train(lots)\")\n",
    "codes = np.loadtxt(path/'label_names.txt', dtype=str)\n",
    "def label_func(fn): return path/\"masks\"/f\"{fn.stem}_P.png\"\n",
    "fnames = get_image_files(path/\"images\")\n",
    "\n",
    "dls = SegmentationDataLoaders.from_label_func(\n",
    "    path, bs=6, fnames = fnames, label_func = label_func, codes = codes, item_tfms=Resize(256)\n",
    ")"
   ]
  },
  {
   "cell_type": "code",
   "execution_count": null,
   "metadata": {},
   "outputs": [],
   "source": [
    "predict = unet_learner(dls, resnet34)\n",
    "predict.load('all_model')"
   ]
  },
  {
   "cell_type": "code",
   "execution_count": null,
   "metadata": {},
   "outputs": [],
   "source": [
    "img = Image.open(fnames[7])\n",
    "img = img.resize((720,720))\n",
    "prediction = predict.predict(img)\n",
    "prediction[0].show(figsize=(8,8))"
   ]
  },
  {
   "cell_type": "code",
   "execution_count": null,
   "metadata": {},
   "outputs": [],
   "source": [
    "img.show(figsize=(8,8))"
   ]
  }
 ],
 "metadata": {
  "kernelspec": {
   "display_name": "fast",
   "language": "python",
   "name": "python3"
  },
  "language_info": {
   "codemirror_mode": {
    "name": "ipython",
    "version": 3
   },
   "file_extension": ".py",
   "mimetype": "text/x-python",
   "name": "python",
   "nbconvert_exporter": "python",
   "pygments_lexer": "ipython3",
   "version": "3.11.4"
  }
 },
 "nbformat": 4,
 "nbformat_minor": 2
}
